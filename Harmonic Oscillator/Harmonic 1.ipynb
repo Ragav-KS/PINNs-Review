{
 "cells": [
  {
   "cell_type": "code",
   "execution_count": 1,
   "source": [
    "__NAME = 'Harmonic 1'"
   ],
   "outputs": [],
   "metadata": {}
  },
  {
   "cell_type": "markdown",
   "source": [
    "# Imports"
   ],
   "metadata": {}
  },
  {
   "cell_type": "code",
   "execution_count": 2,
   "source": [
    "import tensorflow as tf\r\n",
    "print(tf.version)\r\n",
    "print(tf.test.is_built_with_cuda())\r\n",
    "print(tf.test.is_gpu_available(cuda_only=False, min_cuda_compute_capability=None))"
   ],
   "outputs": [
    {
     "output_type": "stream",
     "name": "stdout",
     "text": [
      "<module 'tensorflow._api.v1.version' from 'I:\\\\Users\\\\Ragav\\\\miniconda3\\\\envs\\\\juptenflowgpu115\\\\lib\\\\site-packages\\\\tensorflow_core\\\\_api\\\\v1\\\\version\\\\__init__.py'>\n",
      "True\n",
      "True\n"
     ]
    }
   ],
   "metadata": {}
  },
  {
   "cell_type": "code",
   "execution_count": 3,
   "source": [
    "import matplotlib.pyplot as plt\r\n",
    "from mpl_toolkits.mplot3d import Axes3D\r\n",
    "# from plotting import newfig, savefig\r\n",
    "import matplotlib.gridspec as gridspec\r\n",
    "from mpl_toolkits.axes_grid1 import make_axes_locatable"
   ],
   "outputs": [],
   "metadata": {}
  },
  {
   "cell_type": "code",
   "execution_count": 4,
   "source": [
    "import numpy as np\r\n",
    "import scipy.io\r\n",
    "from scipy.interpolate import griddata\r\n",
    "import time\r\n",
    "from pyDOE import lhs"
   ],
   "outputs": [],
   "metadata": {}
  },
  {
   "cell_type": "code",
   "execution_count": 5,
   "source": [
    "import pickle as pkl"
   ],
   "outputs": [],
   "metadata": {}
  },
  {
   "cell_type": "code",
   "execution_count": 6,
   "source": [
    "%matplotlib widget"
   ],
   "outputs": [],
   "metadata": {}
  },
  {
   "cell_type": "markdown",
   "source": [
    "# Equation"
   ],
   "metadata": {}
  },
  {
   "cell_type": "code",
   "execution_count": 7,
   "source": [
    "k = 1"
   ],
   "outputs": [],
   "metadata": {}
  },
  {
   "cell_type": "markdown",
   "source": [
    "$$ y'' + k^2 y = 0 $$"
   ],
   "metadata": {}
  },
  {
   "cell_type": "markdown",
   "source": [
    "# Model "
   ],
   "metadata": {}
  },
  {
   "cell_type": "code",
   "execution_count": 8,
   "source": [
    "# Layers\r\n",
    "u_layers = [1, 50, 50, 50, 50, 1]\r\n",
    "pde_layers = [3, 100, 100, 1]\r\n",
    "\r\n",
    "layers = [1, 50, 50, 50, 50, 1]\r\n",
    "\r\n",
    "# layers = [1, 100, 1000, 1000, 100, 1]\r\n",
    "\r\n",
    "# layers = [1, 3, 3, 3, 1]"
   ],
   "outputs": [],
   "metadata": {}
  },
  {
   "cell_type": "code",
   "execution_count": 9,
   "source": [
    "x_tf = tf.placeholder(tf.float32, shape=[None, 1])\r\n",
    "u_tf = tf.placeholder(tf.float32, shape=[None, 1])\r\n",
    "x_tf, u_tf"
   ],
   "outputs": [
    {
     "output_type": "execute_result",
     "data": {
      "text/plain": [
       "(<tf.Tensor 'Placeholder:0' shape=(?, 1) dtype=float32>,\n",
       " <tf.Tensor 'Placeholder_1:0' shape=(?, 1) dtype=float32>)"
      ]
     },
     "metadata": {},
     "execution_count": 9
    }
   ],
   "metadata": {}
  },
  {
   "cell_type": "code",
   "execution_count": 10,
   "source": [
    "def initialize_NN(layers):\r\n",
    "    weights = []\r\n",
    "    biases = []\r\n",
    "    num_layers = len(layers)\r\n",
    "    for l in range(0, num_layers - 1):\r\n",
    "        W = xavier_init(size=[layers[l], layers[l + 1]])\r\n",
    "        b = tf.Variable(tf.zeros([1, layers[l + 1]], dtype=tf.float32),\r\n",
    "                        dtype=tf.float32)\r\n",
    "        weights.append(W)\r\n",
    "        biases.append(b)\r\n",
    "    return weights, biases\r\n",
    "\r\n",
    "def xavier_init(size):\r\n",
    "    in_dim = size[0]\r\n",
    "    out_dim = size[1]\r\n",
    "    xavier_stddev = np.sqrt(2 / (in_dim + out_dim))\r\n",
    "    return tf.Variable(tf.truncated_normal([in_dim, out_dim],\r\n",
    "                                           stddev=xavier_stddev,\r\n",
    "                                           dtype=tf.float32),\r\n",
    "                       dtype=tf.float32)"
   ],
   "outputs": [],
   "metadata": {}
  },
  {
   "cell_type": "code",
   "execution_count": 11,
   "source": [
    "def neural_net(X, weights, biases):\r\n",
    "    num_layers = len(weights) + 1\r\n",
    "    H = X\r\n",
    "    for l in range(0, num_layers - 2):\r\n",
    "        W = weights[l]\r\n",
    "        b = biases[l]\r\n",
    "        H = tf.sin(tf.add(tf.matmul(H, W), b))\r\n",
    "    W = weights[-1]\r\n",
    "    b = biases[-1]\r\n",
    "    Y = tf.add(tf.matmul(H, W), b)\r\n",
    "    return Y"
   ],
   "outputs": [],
   "metadata": {}
  },
  {
   "cell_type": "code",
   "execution_count": 12,
   "source": [
    "u_weights, u_biases = initialize_NN(layers)"
   ],
   "outputs": [],
   "metadata": {}
  },
  {
   "cell_type": "code",
   "execution_count": 13,
   "source": [
    "# Load Weights and biases\r\n",
    "\r\n",
    "# npz1 = np.load('Harmonic 1\\\\weights.npz')\r\n",
    "# npz2 = np.load('Harmonic 1\\\\biases.npz')\r\n",
    "\r\n",
    "with open(__NAME + '\\\\weights.pkl', 'rb') as db_file:\r\n",
    "    W_pkl = pkl.load(db_file)\r\n",
    "\r\n",
    "with open(__NAME + '\\\\biases.pkl', 'rb') as db_file:\r\n",
    "    B_pkl = pkl.load(db_file)\r\n",
    "\r\n",
    "W = []\r\n",
    "B = []\r\n",
    "for w, b in zip(W_pkl, B_pkl):\r\n",
    "    W.append(tf.Variable(w))\r\n",
    "    B.append(tf.Variable(b))\r\n",
    "\r\n",
    "u_weights = W\r\n",
    "u_biases = B"
   ],
   "outputs": [],
   "metadata": {}
  },
  {
   "cell_type": "code",
   "execution_count": 15,
   "source": [],
   "outputs": [],
   "metadata": {}
  },
  {
   "cell_type": "code",
   "execution_count": 14,
   "source": [
    "lb_tf = tf.placeholder(tf.float32, shape=[1])\r\n",
    "ub_tf = tf.placeholder(tf.float32, shape=[1])"
   ],
   "outputs": [],
   "metadata": {}
  },
  {
   "cell_type": "code",
   "execution_count": 15,
   "source": [
    "# tf placeholders for Solution\r\n",
    "x0_tf = tf.placeholder(tf.float32, shape=[None, 1])\r\n",
    "u0_tf = tf.placeholder(tf.float32, shape=[None, 1])\r\n",
    "u_x0_tf = tf.placeholder(tf.float32, shape=[None, 1])\r\n",
    "\r\n",
    "x_f_tf = tf.placeholder(tf.float32, shape=[None, 1])"
   ],
   "outputs": [],
   "metadata": {}
  },
  {
   "cell_type": "code",
   "execution_count": 16,
   "source": [
    "def sol_net_u(x):\r\n",
    "    X = tf.concat([x], 1)\r\n",
    "    H = 2.0 * (X - lb_tf) / (ub_tf - lb_tf) - 1.0\r\n",
    "    u = neural_net(H, u_weights, u_biases)\r\n",
    "    u_x = tf.gradients(u, x)[0]\r\n",
    "    return u, u_x\r\n",
    "\r\n",
    "def sol_net_f(x):\r\n",
    "    u, u_x = sol_net_u(x)\r\n",
    "\r\n",
    "    u_xx = tf.gradients(u_x, x)[0]\r\n",
    "\r\n",
    "    f = u_xx + k**2 * u\r\n",
    "\r\n",
    "    return f"
   ],
   "outputs": [],
   "metadata": {}
  },
  {
   "cell_type": "code",
   "execution_count": 17,
   "source": [
    "# tf graphs for Solution\r\n",
    "u0_pred, u_x0_pred = sol_net_u(x0_tf)\r\n",
    "\r\n",
    "sol_f_pred = sol_net_f(x_f_tf)"
   ],
   "outputs": [],
   "metadata": {}
  },
  {
   "cell_type": "code",
   "execution_count": 18,
   "source": [
    "# loss for Solution\r\n",
    "sol_loss = tf.reduce_sum(tf.square(u0_tf - u0_pred)) + \\\r\n",
    "           tf.reduce_sum(tf.square(u_x0_pred - u_x0_tf)) + \\\r\n",
    "           tf.reduce_sum(tf.square(sol_f_pred))"
   ],
   "outputs": [],
   "metadata": {}
  },
  {
   "cell_type": "code",
   "execution_count": 19,
   "source": [
    "# Optimizer for Solution\r\n",
    "adam_optimizer = tf.train.AdamOptimizer()\r\n",
    "sol_train_op_Adam = adam_optimizer.minimize(\r\n",
    "            sol_loss,\r\n",
    "            var_list= u_weights + u_biases)\r\n",
    "\r\n",
    "sol_optimizer = tf.contrib.opt.ScipyOptimizerInterface(\r\n",
    "    sol_loss,\r\n",
    "    var_list=u_weights + u_biases,\r\n",
    "    method='L-BFGS-B',\r\n",
    "    options={\r\n",
    "        'maxiter': 50000,\r\n",
    "        'maxfun': 50000,\r\n",
    "        'maxcor': 50,\r\n",
    "        'maxls': 50,\r\n",
    "        'ftol': 1.0 * np.finfo(float).eps\r\n",
    "    })"
   ],
   "outputs": [
    {
     "output_type": "stream",
     "name": "stdout",
     "text": [
      "WARNING:tensorflow:\nThe TensorFlow contrib module will not be included in TensorFlow 2.0.\nFor more information, please see:\n  * https://github.com/tensorflow/community/blob/master/rfcs/20180907-contrib-sunset.md\n  * https://github.com/tensorflow/addons\n  * https://github.com/tensorflow/io (for I/O related ops)\nIf you depend on functionality not listed there, please file an issue.\n\n"
     ]
    }
   ],
   "metadata": {}
  },
  {
   "cell_type": "code",
   "execution_count": 20,
   "source": [
    "# tf session\r\n",
    "sess = tf.Session(config=tf.ConfigProto(\r\n",
    "    allow_soft_placement=True, log_device_placement=True))\r\n",
    "init = tf.global_variables_initializer()\r\n",
    "sess.run(init)"
   ],
   "outputs": [
    {
     "output_type": "stream",
     "name": "stdout",
     "text": [
      "Device mapping:\n/job:localhost/replica:0/task:0/device:GPU:0 -> device: 0, name: NVIDIA GeForce GTX 1650 Ti, pci bus id: 0000:01:00.0, compute capability: 7.5\n\n"
     ]
    }
   ],
   "metadata": {}
  },
  {
   "cell_type": "markdown",
   "source": [
    "# Training\n",
    "## Prepare data"
   ],
   "metadata": {}
  },
  {
   "cell_type": "code",
   "execution_count": 21,
   "source": [
    "lb = np.array([- np.pi * 2])\r\n",
    "ub = np.array([np.pi * 2])"
   ],
   "outputs": [],
   "metadata": {}
  },
  {
   "cell_type": "code",
   "execution_count": 22,
   "source": [
    "x0 = np.array([0])\r\n",
    "u0 = np.array([0])\r\n",
    "u_x0 = np.array([1])"
   ],
   "outputs": [],
   "metadata": {}
  },
  {
   "cell_type": "code",
   "execution_count": 23,
   "source": [
    "N_f = 1000\r\n",
    "(N_f)"
   ],
   "outputs": [
    {
     "output_type": "execute_result",
     "data": {
      "text/plain": [
       "1000"
      ]
     },
     "metadata": {},
     "execution_count": 23
    }
   ],
   "metadata": {}
  },
  {
   "cell_type": "code",
   "execution_count": 24,
   "source": [
    "X_f_train = lb + (ub - lb) * lhs(1, N_f) "
   ],
   "outputs": [],
   "metadata": {}
  },
  {
   "cell_type": "code",
   "execution_count": 25,
   "source": [
    "def callback(loss):\r\n",
    "    print('Loss: %e' % (loss))"
   ],
   "outputs": [],
   "metadata": {}
  },
  {
   "cell_type": "code",
   "execution_count": 26,
   "source": [
    "tf_dict = {\r\n",
    "    lb_tf: lb,\r\n",
    "    ub_tf: ub,\r\n",
    "    x0_tf: x0[None, :],\r\n",
    "    u0_tf: u0[None, :],\r\n",
    "    u_x0_tf: u_x0[None, :],\r\n",
    "    x_f_tf: X_f_train\r\n",
    "}"
   ],
   "outputs": [],
   "metadata": {}
  },
  {
   "cell_type": "code",
   "execution_count": 27,
   "source": [
    "start_time = time.time()\r\n",
    "for it in range(1000):\r\n",
    "\r\n",
    "    sess.run(sol_train_op_Adam, tf_dict)\r\n",
    "\r\n",
    "    # Print\r\n",
    "    if it % 10 == 0:\r\n",
    "        elapsed = time.time() - start_time\r\n",
    "        loss_value = sess.run(sol_loss, tf_dict)\r\n",
    "        print('It: %d, Loss: %.3e, Time: %.2f' %\r\n",
    "                (it, loss_value, elapsed))\r\n",
    "        start_time = time.time()"
   ],
   "outputs": [
    {
     "output_type": "stream",
     "name": "stdout",
     "text": [
      "It: 0, Loss: 7.865e+00, Time: 4.21\n",
      "It: 10, Loss: 4.807e-01, Time: 0.12\n",
      "It: 20, Loss: 5.893e-01, Time: 0.11\n",
      "It: 30, Loss: 1.646e-01, Time: 0.10\n",
      "It: 40, Loss: 1.593e-02, Time: 0.10\n",
      "It: 50, Loss: 3.067e-03, Time: 0.10\n",
      "It: 60, Loss: 1.587e-03, Time: 0.09\n",
      "It: 70, Loss: 1.772e-03, Time: 0.09\n",
      "It: 80, Loss: 1.906e-03, Time: 0.10\n",
      "It: 90, Loss: 1.579e-03, Time: 0.10\n",
      "It: 100, Loss: 9.812e-04, Time: 0.09\n",
      "It: 110, Loss: 8.047e-04, Time: 0.10\n",
      "It: 120, Loss: 7.112e-04, Time: 0.10\n",
      "It: 130, Loss: 5.973e-04, Time: 0.10\n",
      "It: 140, Loss: 5.180e-04, Time: 0.09\n",
      "It: 150, Loss: 4.433e-04, Time: 0.10\n",
      "It: 160, Loss: 3.790e-04, Time: 0.09\n",
      "It: 170, Loss: 3.230e-04, Time: 0.10\n",
      "It: 180, Loss: 2.741e-04, Time: 0.10\n",
      "It: 190, Loss: 2.319e-04, Time: 0.11\n",
      "It: 200, Loss: 1.956e-04, Time: 0.11\n",
      "It: 210, Loss: 1.647e-04, Time: 0.12\n",
      "It: 220, Loss: 1.386e-04, Time: 0.10\n",
      "It: 230, Loss: 1.166e-04, Time: 0.10\n",
      "It: 240, Loss: 9.822e-05, Time: 0.10\n",
      "It: 250, Loss: 8.301e-05, Time: 0.10\n",
      "It: 260, Loss: 7.049e-05, Time: 0.10\n",
      "It: 270, Loss: 6.023e-05, Time: 0.10\n",
      "It: 280, Loss: 5.188e-05, Time: 0.11\n",
      "It: 290, Loss: 4.511e-05, Time: 0.13\n",
      "It: 300, Loss: 3.965e-05, Time: 0.10\n",
      "It: 310, Loss: 3.526e-05, Time: 0.10\n",
      "It: 320, Loss: 3.175e-05, Time: 0.10\n",
      "It: 330, Loss: 2.893e-05, Time: 0.10\n",
      "It: 340, Loss: 2.667e-05, Time: 0.11\n",
      "It: 350, Loss: 2.486e-05, Time: 0.10\n",
      "It: 360, Loss: 2.340e-05, Time: 0.10\n",
      "It: 370, Loss: 2.222e-05, Time: 0.10\n",
      "It: 380, Loss: 2.125e-05, Time: 0.10\n",
      "It: 390, Loss: 2.045e-05, Time: 0.12\n",
      "It: 400, Loss: 1.977e-05, Time: 0.11\n",
      "It: 410, Loss: 1.919e-05, Time: 0.10\n",
      "It: 420, Loss: 1.869e-05, Time: 0.10\n",
      "It: 430, Loss: 1.824e-05, Time: 0.10\n",
      "It: 440, Loss: 1.783e-05, Time: 0.11\n",
      "It: 450, Loss: 1.746e-05, Time: 0.11\n",
      "It: 460, Loss: 1.711e-05, Time: 0.11\n",
      "It: 470, Loss: 1.678e-05, Time: 0.11\n",
      "It: 480, Loss: 1.647e-05, Time: 0.10\n",
      "It: 490, Loss: 1.616e-05, Time: 0.13\n",
      "It: 500, Loss: 1.587e-05, Time: 0.11\n",
      "It: 510, Loss: 1.558e-05, Time: 0.10\n",
      "It: 520, Loss: 1.530e-05, Time: 0.11\n",
      "It: 530, Loss: 1.502e-05, Time: 0.10\n",
      "It: 540, Loss: 1.475e-05, Time: 0.10\n",
      "It: 550, Loss: 1.448e-05, Time: 0.10\n",
      "It: 560, Loss: 1.422e-05, Time: 0.10\n",
      "It: 570, Loss: 1.396e-05, Time: 0.10\n",
      "It: 580, Loss: 1.371e-05, Time: 0.10\n",
      "It: 590, Loss: 1.346e-05, Time: 0.11\n",
      "It: 600, Loss: 1.321e-05, Time: 0.11\n",
      "It: 610, Loss: 1.297e-05, Time: 0.10\n",
      "It: 620, Loss: 1.273e-05, Time: 0.10\n",
      "It: 630, Loss: 1.249e-05, Time: 0.11\n",
      "It: 640, Loss: 1.226e-05, Time: 0.11\n",
      "It: 650, Loss: 1.204e-05, Time: 0.10\n",
      "It: 660, Loss: 1.181e-05, Time: 0.10\n",
      "It: 670, Loss: 1.159e-05, Time: 0.12\n",
      "It: 680, Loss: 1.138e-05, Time: 0.11\n",
      "It: 690, Loss: 1.117e-05, Time: 0.10\n",
      "It: 700, Loss: 1.096e-05, Time: 0.10\n",
      "It: 710, Loss: 1.076e-05, Time: 0.10\n",
      "It: 720, Loss: 1.056e-05, Time: 0.10\n",
      "It: 730, Loss: 1.036e-05, Time: 0.09\n",
      "It: 740, Loss: 1.017e-05, Time: 0.11\n",
      "It: 750, Loss: 9.988e-06, Time: 0.11\n",
      "It: 760, Loss: 9.805e-06, Time: 0.10\n",
      "It: 770, Loss: 9.628e-06, Time: 0.11\n",
      "It: 780, Loss: 9.452e-06, Time: 0.09\n",
      "It: 790, Loss: 9.281e-06, Time: 0.10\n",
      "It: 800, Loss: 9.115e-06, Time: 0.10\n",
      "It: 810, Loss: 8.952e-06, Time: 0.10\n",
      "It: 820, Loss: 8.794e-06, Time: 0.10\n",
      "It: 830, Loss: 8.640e-06, Time: 0.10\n",
      "It: 840, Loss: 8.486e-06, Time: 0.10\n",
      "It: 850, Loss: 8.339e-06, Time: 0.10\n",
      "It: 860, Loss: 8.195e-06, Time: 0.10\n",
      "It: 870, Loss: 8.055e-06, Time: 0.11\n",
      "It: 880, Loss: 7.918e-06, Time: 0.11\n",
      "It: 890, Loss: 7.785e-06, Time: 0.10\n",
      "It: 900, Loss: 7.658e-06, Time: 0.10\n",
      "It: 910, Loss: 7.531e-06, Time: 0.09\n",
      "It: 920, Loss: 7.408e-06, Time: 0.10\n",
      "It: 930, Loss: 7.289e-06, Time: 0.10\n",
      "It: 940, Loss: 7.174e-06, Time: 0.10\n",
      "It: 950, Loss: 7.061e-06, Time: 0.10\n",
      "It: 960, Loss: 6.952e-06, Time: 0.11\n",
      "It: 970, Loss: 6.847e-06, Time: 0.11\n",
      "It: 980, Loss: 6.745e-06, Time: 0.10\n",
      "It: 990, Loss: 6.645e-06, Time: 0.11\n"
     ]
    }
   ],
   "metadata": {}
  },
  {
   "cell_type": "code",
   "execution_count": 28,
   "source": [
    "sol_optimizer.minimize(sess,\r\n",
    "                       feed_dict=tf_dict,\r\n",
    "                       fetches=[sol_loss],\r\n",
    "                       loss_callback=callback)"
   ],
   "outputs": [
    {
     "output_type": "stream",
     "name": "stdout",
     "text": [
      "Loss: 6.557041e-06\n",
      "Loss: 2.787528e+03\n",
      "Loss: 6.557086e-06\n",
      "Loss: 6.557059e-06\n",
      "Loss: 6.556744e-06\n",
      "Loss: 6.556782e-06\n",
      "Loss: 6.556744e-06\n",
      "Loss: 6.556744e-06\n",
      "Loss: 6.556654e-06\n",
      "Loss: 1.219565e-05\n",
      "Loss: 6.556790e-06\n",
      "Loss: 6.556639e-06\n",
      "Loss: 6.556246e-06\n",
      "Loss: 6.555391e-06\n",
      "Loss: 6.553398e-06\n",
      "Loss: 6.545834e-06\n",
      "Loss: 6.528980e-06\n",
      "Loss: 6.508954e-06\n",
      "Loss: 6.488440e-06\n",
      "Loss: 6.438780e-06\n",
      "Loss: 6.396902e-06\n",
      "Loss: 6.315632e-06\n",
      "Loss: 6.202415e-06\n",
      "Loss: 6.195025e-06\n",
      "Loss: 6.158148e-06\n",
      "Loss: 6.108374e-06\n",
      "Loss: 6.080323e-06\n",
      "Loss: 6.054768e-06\n",
      "Loss: 6.009881e-06\n",
      "Loss: 5.958202e-06\n",
      "Loss: 5.932652e-06\n",
      "Loss: 5.906897e-06\n",
      "Loss: 5.828116e-06\n",
      "Loss: 5.687250e-06\n",
      "Loss: 5.318551e-06\n",
      "Loss: 4.807518e-06\n",
      "Loss: 4.369186e-06\n",
      "Loss: 4.228767e-06\n",
      "Loss: 4.199263e-06\n",
      "Loss: 4.192795e-06\n",
      "Loss: 4.179072e-06\n",
      "Loss: 4.155274e-06\n",
      "Loss: 4.105073e-06\n",
      "Loss: 4.049029e-06\n",
      "Loss: 4.020072e-06\n",
      "Loss: 4.005873e-06\n",
      "Loss: 4.001682e-06\n",
      "Loss: 4.001013e-06\n",
      "Loss: 3.997727e-06\n",
      "Loss: 3.994647e-06\n",
      "Loss: 3.993301e-06\n",
      "Loss: 3.993266e-06\n",
      "Loss: 3.993136e-06\n",
      "Loss: 3.991855e-06\n",
      "Loss: 3.991407e-06\n",
      "Loss: 3.990870e-06\n",
      "Loss: 3.990608e-06\n",
      "Loss: 3.990129e-06\n",
      "Loss: 3.991240e-06\n",
      "Loss: 3.990419e-06\n",
      "Loss: 3.990129e-06\n",
      "Loss: 3.990129e-06\n",
      "Loss: 3.990129e-06\n",
      "Loss: 3.990129e-06\n",
      "Loss: 3.990129e-06\n",
      "Loss: 3.990129e-06\n",
      "Loss: 3.990129e-06\n",
      "Loss: 3.990129e-06\n",
      "Loss: 3.990129e-06\n",
      "Loss: 3.990129e-06\n",
      "Loss: 3.990129e-06\n",
      "INFO:tensorflow:Optimization terminated with:\n",
      "  Message: CONVERGENCE: REL_REDUCTION_OF_F_<=_FACTR*EPSMCH\n",
      "  Objective function value: 0.000004\n",
      "  Number of iterations: 47\n",
      "  Number of functions evaluations: 71\n"
     ]
    }
   ],
   "metadata": {}
  },
  {
   "cell_type": "code",
   "execution_count": 29,
   "source": [
    "sess.run(sol_loss, feed_dict=tf_dict)"
   ],
   "outputs": [
    {
     "output_type": "execute_result",
     "data": {
      "text/plain": [
       "3.9901292e-06"
      ]
     },
     "metadata": {},
     "execution_count": 29
    }
   ],
   "metadata": {}
  },
  {
   "cell_type": "code",
   "execution_count": 30,
   "source": [
    "# np.savez('Harmonic 1\\\\weights.npz', sess.run(u_weights), dtype=object, allow_pickle=True)\r\n",
    "# np.savez('Harmonic 1\\\\biases.npz', sess.run(u_biases), allow_pickle=True)\r\n",
    "with open(__NAME + '\\\\weights.pkl', 'wb') as db_file:\r\n",
    "    pkl.dump(obj=sess.run(u_weights), file=db_file)\r\n",
    "\r\n",
    "with open(__NAME + '\\\\biases.pkl', 'wb') as db_file:\r\n",
    "    pkl.dump(obj=sess.run(u_biases), file=db_file)"
   ],
   "outputs": [],
   "metadata": {}
  },
  {
   "cell_type": "code",
   "execution_count": 31,
   "source": [
    "x_sol = np.linspace(lb[0], ub[0], num=1000)"
   ],
   "outputs": [],
   "metadata": {}
  },
  {
   "cell_type": "code",
   "execution_count": 32,
   "source": [
    "u_pred = sess.run(u0_pred, {\r\n",
    "        lb_tf: lb,\r\n",
    "        ub_tf: ub,\r\n",
    "        x0_tf: x_sol[:, None]\r\n",
    "    })\r\n",
    "\r\n",
    "# loss function\r\n",
    "f_pred = sess.run(sol_f_pred, {\r\n",
    "        lb_tf: lb,\r\n",
    "        ub_tf: ub,\r\n",
    "        x_f_tf: x_sol[:, None]\r\n",
    "    })"
   ],
   "outputs": [],
   "metadata": {}
  },
  {
   "cell_type": "code",
   "execution_count": 33,
   "source": [
    "# fig, ax = plt.subplots()\r\n",
    "# ax.set_xlabel('$x$')\r\n",
    "# ax.set_ylabel('$y$')\r\n",
    "# ax.plot(x_sol, u_pred)\r\n",
    "# fig.set_figheight(3.2)\r\n",
    "# fig.set_figwidth(6)\r\n",
    "# plt.tight_layout()"
   ],
   "outputs": [],
   "metadata": {}
  },
  {
   "cell_type": "code",
   "execution_count": 1,
   "source": [
    "fig = plt.figure(figsize=(4*1.3333,4), dpi=200)\n",
    "ax = fig.gca()"
   ],
   "outputs": [
    {
     "output_type": "error",
     "ename": "NameError",
     "evalue": "name 'plt' is not defined",
     "traceback": [
      "\u001b[1;31m---------------------------------------------------------------------------\u001b[0m",
      "\u001b[1;31mNameError\u001b[0m                                 Traceback (most recent call last)",
      "\u001b[1;32m<ipython-input-1-df3490485dad>\u001b[0m in \u001b[0;36m<module>\u001b[1;34m\u001b[0m\n\u001b[1;32m----> 1\u001b[1;33m \u001b[0mfig\u001b[0m \u001b[1;33m=\u001b[0m \u001b[0mplt\u001b[0m\u001b[1;33m.\u001b[0m\u001b[0mfigure\u001b[0m\u001b[1;33m(\u001b[0m\u001b[0mfigsize\u001b[0m\u001b[1;33m=\u001b[0m\u001b[1;33m(\u001b[0m\u001b[1;36m4\u001b[0m\u001b[1;33m*\u001b[0m\u001b[1;36m1.3333\u001b[0m\u001b[1;33m,\u001b[0m\u001b[1;36m4\u001b[0m\u001b[1;33m)\u001b[0m\u001b[1;33m,\u001b[0m \u001b[0mdpi\u001b[0m\u001b[1;33m=\u001b[0m\u001b[1;36m200\u001b[0m\u001b[1;33m)\u001b[0m\u001b[1;33m\u001b[0m\u001b[1;33m\u001b[0m\u001b[0m\n\u001b[0m\u001b[0;32m      2\u001b[0m \u001b[0max\u001b[0m \u001b[1;33m=\u001b[0m \u001b[0mfig\u001b[0m\u001b[1;33m.\u001b[0m\u001b[0mgca\u001b[0m\u001b[1;33m(\u001b[0m\u001b[1;33m)\u001b[0m\u001b[1;33m\u001b[0m\u001b[1;33m\u001b[0m\u001b[0m\n",
      "\u001b[1;31mNameError\u001b[0m: name 'plt' is not defined"
     ]
    }
   ],
   "metadata": {}
  },
  {
   "cell_type": "code",
   "execution_count": 49,
   "source": [
    "ax.set_xlim(lb[0], ub[0])\n",
    "# ax.set_xticks(np.arange(lb[0],ub[0],(ub[0] - lb[0])/N))\n",
    "# ax.set_yticks(np.arange(lb[1],ub[1],(ub[1] - lb[1])/N))\n",
    "\n",
    "ax.yaxis.grid(color='gainsboro', linestyle='dotted', linewidth=1.5)\n",
    "ax.xaxis.grid(color='gainsboro', linestyle='dotted', linewidth=0.8)\n",
    "ax.axhline(0,linestyle='dotted', color='grey')\n",
    "ax.spines['right'].set_color('none')\n",
    "ax.spines['top'].set_color('none')\n",
    "# plt.subplots_adjust(bottom=0.17)\n",
    "# plt.subplots_adjust(left=0.17)\n",
    "\n",
    "plt.title('Simple Harmonic Oscillator')\n",
    "plt.xlabel('$x$')\n",
    "plt.ylabel('$y$')\n",
    "\n",
    "ax.plot(x_sol, u_pred, color ='red', label='PINN sol')\n",
    "ax.plot(x_sol, np.sin(k * x_sol) / k, color ='blue', label='ideal sol', ls='-.')\n",
    "\n",
    "plt.tight_layout()\n",
    "\n",
    "plt.legend()\n",
    "\n",
    "# fig.show()\n",
    "fig.savefig('Figures\\\\SHO.png')"
   ],
   "outputs": [],
   "metadata": {}
  },
  {
   "cell_type": "code",
   "execution_count": null,
   "metadata": {},
   "outputs": [],
   "source": []
  },
  {
   "cell_type": "code",
   "execution_count": 36,
   "source": [
    "# fig, ax = plt.subplots()"
   ],
   "outputs": [],
   "metadata": {}
  },
  {
   "cell_type": "code",
   "execution_count": 37,
   "source": [
    "# ax.plot(x_sol, u_pred)\r\n",
    "# # ax.plot(x_sol, f_pred)"
   ],
   "outputs": [],
   "metadata": {}
  }
 ],
 "metadata": {
  "interpreter": {
   "hash": "086221cf0dbfdd6f28656a5918bac9072f8e620a65fde2e6bda7f3ee0b75ad5a"
  },
  "kernelspec": {
   "name": "python3",
   "display_name": "Python 3.7.10 64-bit ('juptenflowgpu115': conda)"
  },
  "language_info": {
   "codemirror_mode": {
    "name": "ipython",
    "version": 3
   },
   "file_extension": ".py",
   "mimetype": "text/x-python",
   "name": "python",
   "nbconvert_exporter": "python",
   "pygments_lexer": "ipython3",
   "version": "3.7.10"
  },
  "orig_nbformat": 3
 },
 "nbformat": 4,
 "nbformat_minor": 2
}